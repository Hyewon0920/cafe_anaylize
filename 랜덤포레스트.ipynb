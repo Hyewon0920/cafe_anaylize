{
 "cells": [
  {
   "attachments": {},
   "cell_type": "markdown",
   "metadata": {},
   "source": [
    "## 데이터 전처리 및 저장"
   ]
  },
  {
   "cell_type": "code",
   "execution_count": 22,
   "metadata": {},
   "outputs": [
    {
     "data": {
      "text/html": [
       "<div>\n",
       "<style scoped>\n",
       "    .dataframe tbody tr th:only-of-type {\n",
       "        vertical-align: middle;\n",
       "    }\n",
       "\n",
       "    .dataframe tbody tr th {\n",
       "        vertical-align: top;\n",
       "    }\n",
       "\n",
       "    .dataframe thead th {\n",
       "        text-align: right;\n",
       "    }\n",
       "</style>\n",
       "<table border=\"1\" class=\"dataframe\">\n",
       "  <thead>\n",
       "    <tr style=\"text-align: right;\">\n",
       "      <th></th>\n",
       "      <th>season</th>\n",
       "      <th>temperature</th>\n",
       "      <th>cloudy</th>\n",
       "      <th>rain</th>\n",
       "      <th>sunny</th>\n",
       "      <th>airpolution</th>\n",
       "      <th>humid(%)</th>\n",
       "      <th>품목 분류</th>\n",
       "      <th>cluster</th>\n",
       "      <th>menu</th>\n",
       "    </tr>\n",
       "  </thead>\n",
       "  <tbody>\n",
       "    <tr>\n",
       "      <th>0</th>\n",
       "      <td>fall</td>\n",
       "      <td>-0.6</td>\n",
       "      <td>0</td>\n",
       "      <td>0</td>\n",
       "      <td>1</td>\n",
       "      <td>23.0</td>\n",
       "      <td>60.9</td>\n",
       "      <td>라떼</td>\n",
       "      <td>3</td>\n",
       "      <td>아이스 그린티라떼</td>\n",
       "    </tr>\n",
       "    <tr>\n",
       "      <th>1</th>\n",
       "      <td>fall</td>\n",
       "      <td>-0.6</td>\n",
       "      <td>0</td>\n",
       "      <td>0</td>\n",
       "      <td>1</td>\n",
       "      <td>23.0</td>\n",
       "      <td>60.9</td>\n",
       "      <td>커피</td>\n",
       "      <td>1</td>\n",
       "      <td>아메리카노</td>\n",
       "    </tr>\n",
       "    <tr>\n",
       "      <th>2</th>\n",
       "      <td>fall</td>\n",
       "      <td>-0.6</td>\n",
       "      <td>0</td>\n",
       "      <td>0</td>\n",
       "      <td>1</td>\n",
       "      <td>23.0</td>\n",
       "      <td>60.9</td>\n",
       "      <td>커피</td>\n",
       "      <td>1</td>\n",
       "      <td>아이스 아메리카노</td>\n",
       "    </tr>\n",
       "    <tr>\n",
       "      <th>3</th>\n",
       "      <td>fall</td>\n",
       "      <td>-0.6</td>\n",
       "      <td>0</td>\n",
       "      <td>0</td>\n",
       "      <td>1</td>\n",
       "      <td>23.0</td>\n",
       "      <td>60.9</td>\n",
       "      <td>커피</td>\n",
       "      <td>5</td>\n",
       "      <td>카페라떼</td>\n",
       "    </tr>\n",
       "    <tr>\n",
       "      <th>4</th>\n",
       "      <td>fall</td>\n",
       "      <td>-0.6</td>\n",
       "      <td>0</td>\n",
       "      <td>0</td>\n",
       "      <td>1</td>\n",
       "      <td>23.0</td>\n",
       "      <td>60.9</td>\n",
       "      <td>커피</td>\n",
       "      <td>3</td>\n",
       "      <td>아이스 카페라떼</td>\n",
       "    </tr>\n",
       "  </tbody>\n",
       "</table>\n",
       "</div>"
      ],
      "text/plain": [
       "  season  temperature  cloudy  rain  sunny  airpolution  humid(%) 품목 분류  \\\n",
       "0   fall         -0.6       0     0      1         23.0      60.9    라떼   \n",
       "1   fall         -0.6       0     0      1         23.0      60.9    커피   \n",
       "2   fall         -0.6       0     0      1         23.0      60.9    커피   \n",
       "3   fall         -0.6       0     0      1         23.0      60.9    커피   \n",
       "4   fall         -0.6       0     0      1         23.0      60.9    커피   \n",
       "\n",
       "   cluster       menu  \n",
       "0        3  아이스 그린티라떼  \n",
       "1        1      아메리카노  \n",
       "2        1  아이스 아메리카노  \n",
       "3        5       카페라떼  \n",
       "4        3   아이스 카페라떼  "
      ]
     },
     "execution_count": 22,
     "metadata": {},
     "output_type": "execute_result"
    }
   ],
   "source": [
    "# 데이터 불러오기\n",
    "import pandas as pd\n",
    "import numpy as np \n",
    "import os\n",
    "\n",
    "train = pd.read_csv(\"랜포train.CSV\")\n",
    "train.head()\n"
   ]
  },
  {
   "cell_type": "code",
   "execution_count": 23,
   "metadata": {},
   "outputs": [
    {
     "name": "stdout",
     "output_type": "stream",
     "text": [
      "Int64Index([   1,    2,    3,    4,    7,   15,   16,   17,   18,   20,\n",
      "            ...\n",
      "            4855, 4856, 4857, 4859, 4861, 4880, 4882, 4883, 4886, 4887],\n",
      "           dtype='int64', length=1211)\n"
     ]
    }
   ],
   "source": [
    "drop_index = train[(train[\"menu\"] == '아이스 아메리카노')|(train[\"menu\"] == '아이스 카페라떼')|(train[\"menu\"] == '아이스 바닐라라떼')|(train[\"menu\"] == '카페라떼')|(train[\"menu\"] == '아메리카노')].index\n",
    "#아이스 아메리카노, 아이스 카페라떼, 아이스 바닐라라떼, 아메리카노\n",
    "\n",
    "print(drop_index)"
   ]
  },
  {
   "cell_type": "code",
   "execution_count": 24,
   "metadata": {},
   "outputs": [],
   "source": [
    "train.drop(drop_index, inplace=True)"
   ]
  },
  {
   "cell_type": "code",
   "execution_count": 25,
   "metadata": {},
   "outputs": [
    {
     "name": "stdout",
     "output_type": "stream",
     "text": [
      "(3690, 10)\n"
     ]
    }
   ],
   "source": [
    "print(train.shape)"
   ]
  },
  {
   "cell_type": "code",
   "execution_count": 26,
   "metadata": {},
   "outputs": [],
   "source": [
    "# 메뉴 칼럼 드랍, season더미변수화 진행\n",
    "\n",
    "train_dummies_season = pd.DataFrame(pd.get_dummies(train['season']))"
   ]
  },
  {
   "cell_type": "code",
   "execution_count": 30,
   "metadata": {},
   "outputs": [],
   "source": [
    "train_final = pd.concat([train.iloc[:,1:7], train_dummies_season, train[['cluster']]], axis=1)"
   ]
  },
  {
   "cell_type": "code",
   "execution_count": 53,
   "metadata": {},
   "outputs": [
    {
     "data": {
      "text/html": [
       "<div>\n",
       "<style scoped>\n",
       "    .dataframe tbody tr th:only-of-type {\n",
       "        vertical-align: middle;\n",
       "    }\n",
       "\n",
       "    .dataframe tbody tr th {\n",
       "        vertical-align: top;\n",
       "    }\n",
       "\n",
       "    .dataframe thead th {\n",
       "        text-align: right;\n",
       "    }\n",
       "</style>\n",
       "<table border=\"1\" class=\"dataframe\">\n",
       "  <thead>\n",
       "    <tr style=\"text-align: right;\">\n",
       "      <th></th>\n",
       "      <th>temperature</th>\n",
       "      <th>cloudy</th>\n",
       "      <th>rain</th>\n",
       "      <th>sunny</th>\n",
       "      <th>airpolution</th>\n",
       "      <th>humid(%)</th>\n",
       "      <th>fall</th>\n",
       "      <th>spring</th>\n",
       "      <th>summer</th>\n",
       "      <th>winter</th>\n",
       "      <th>cluster</th>\n",
       "    </tr>\n",
       "  </thead>\n",
       "  <tbody>\n",
       "    <tr>\n",
       "      <th>1</th>\n",
       "      <td>-0.6</td>\n",
       "      <td>0</td>\n",
       "      <td>0</td>\n",
       "      <td>1</td>\n",
       "      <td>23.0</td>\n",
       "      <td>60.9</td>\n",
       "      <td>1</td>\n",
       "      <td>0</td>\n",
       "      <td>0</td>\n",
       "      <td>0</td>\n",
       "      <td>3</td>\n",
       "    </tr>\n",
       "    <tr>\n",
       "      <th>2</th>\n",
       "      <td>-0.6</td>\n",
       "      <td>0</td>\n",
       "      <td>0</td>\n",
       "      <td>1</td>\n",
       "      <td>23.0</td>\n",
       "      <td>60.9</td>\n",
       "      <td>1</td>\n",
       "      <td>0</td>\n",
       "      <td>0</td>\n",
       "      <td>0</td>\n",
       "      <td>5</td>\n",
       "    </tr>\n",
       "    <tr>\n",
       "      <th>3</th>\n",
       "      <td>-0.6</td>\n",
       "      <td>0</td>\n",
       "      <td>0</td>\n",
       "      <td>1</td>\n",
       "      <td>23.0</td>\n",
       "      <td>60.9</td>\n",
       "      <td>1</td>\n",
       "      <td>0</td>\n",
       "      <td>0</td>\n",
       "      <td>0</td>\n",
       "      <td>5</td>\n",
       "    </tr>\n",
       "    <tr>\n",
       "      <th>4</th>\n",
       "      <td>-0.6</td>\n",
       "      <td>0</td>\n",
       "      <td>0</td>\n",
       "      <td>1</td>\n",
       "      <td>23.0</td>\n",
       "      <td>60.9</td>\n",
       "      <td>1</td>\n",
       "      <td>0</td>\n",
       "      <td>0</td>\n",
       "      <td>0</td>\n",
       "      <td>5</td>\n",
       "    </tr>\n",
       "    <tr>\n",
       "      <th>5</th>\n",
       "      <td>-0.6</td>\n",
       "      <td>0</td>\n",
       "      <td>0</td>\n",
       "      <td>1</td>\n",
       "      <td>23.0</td>\n",
       "      <td>60.9</td>\n",
       "      <td>1</td>\n",
       "      <td>0</td>\n",
       "      <td>0</td>\n",
       "      <td>0</td>\n",
       "      <td>4</td>\n",
       "    </tr>\n",
       "  </tbody>\n",
       "</table>\n",
       "</div>"
      ],
      "text/plain": [
       "   temperature  cloudy  rain  sunny  airpolution  humid(%)  fall  spring  \\\n",
       "1         -0.6       0     0      1         23.0      60.9     1       0   \n",
       "2         -0.6       0     0      1         23.0      60.9     1       0   \n",
       "3         -0.6       0     0      1         23.0      60.9     1       0   \n",
       "4         -0.6       0     0      1         23.0      60.9     1       0   \n",
       "5         -0.6       0     0      1         23.0      60.9     1       0   \n",
       "\n",
       "   summer  winter  cluster  \n",
       "1       0       0        3  \n",
       "2       0       0        5  \n",
       "3       0       0        5  \n",
       "4       0       0        5  \n",
       "5       0       0        4  "
      ]
     },
     "execution_count": 53,
     "metadata": {},
     "output_type": "execute_result"
    }
   ],
   "source": [
    "# index수정\n",
    "train_final.reset_index(inplace = True)\n",
    "train_final.index=train_final.index + 1\n",
    "train_final.drop(columns= \"index\", inplace=True)\n",
    "train_final.head()"
   ]
  },
  {
   "cell_type": "code",
   "execution_count": 57,
   "metadata": {},
   "outputs": [],
   "source": [
    "x = train_final.iloc[:,:-1].values\n",
    "y = train_final.iloc[:,-1:].values"
   ]
  },
  {
   "attachments": {},
   "cell_type": "markdown",
   "metadata": {},
   "source": [
    "## kfold, random forest"
   ]
  },
  {
   "cell_type": "code",
   "execution_count": 58,
   "metadata": {},
   "outputs": [
    {
     "name": "stderr",
     "output_type": "stream",
     "text": [
      "C:\\Users\\hop09\\AppData\\Local\\Temp\\ipykernel_17816\\248147687.py:15: DataConversionWarning: A column-vector y was passed when a 1d array was expected. Please change the shape of y to (n_samples,), for example using ravel().\n",
      "  model.fit(X_train, y_train)  # 모델 학습\n"
     ]
    },
    {
     "name": "stdout",
     "output_type": "stream",
     "text": [
      "Accuracy: 0.2222222222222222\n"
     ]
    },
    {
     "name": "stderr",
     "output_type": "stream",
     "text": [
      "C:\\Users\\hop09\\AppData\\Local\\Temp\\ipykernel_17816\\248147687.py:15: DataConversionWarning: A column-vector y was passed when a 1d array was expected. Please change the shape of y to (n_samples,), for example using ravel().\n",
      "  model.fit(X_train, y_train)  # 모델 학습\n"
     ]
    },
    {
     "name": "stdout",
     "output_type": "stream",
     "text": [
      "Accuracy: 0.22357723577235772\n"
     ]
    },
    {
     "name": "stderr",
     "output_type": "stream",
     "text": [
      "C:\\Users\\hop09\\AppData\\Local\\Temp\\ipykernel_17816\\248147687.py:15: DataConversionWarning: A column-vector y was passed when a 1d array was expected. Please change the shape of y to (n_samples,), for example using ravel().\n",
      "  model.fit(X_train, y_train)  # 모델 학습\n"
     ]
    },
    {
     "name": "stdout",
     "output_type": "stream",
     "text": [
      "Accuracy: 0.24390243902439024\n"
     ]
    },
    {
     "name": "stderr",
     "output_type": "stream",
     "text": [
      "C:\\Users\\hop09\\AppData\\Local\\Temp\\ipykernel_17816\\248147687.py:15: DataConversionWarning: A column-vector y was passed when a 1d array was expected. Please change the shape of y to (n_samples,), for example using ravel().\n",
      "  model.fit(X_train, y_train)  # 모델 학습\n"
     ]
    },
    {
     "name": "stdout",
     "output_type": "stream",
     "text": [
      "Accuracy: 0.23577235772357724\n"
     ]
    },
    {
     "name": "stderr",
     "output_type": "stream",
     "text": [
      "C:\\Users\\hop09\\AppData\\Local\\Temp\\ipykernel_17816\\248147687.py:15: DataConversionWarning: A column-vector y was passed when a 1d array was expected. Please change the shape of y to (n_samples,), for example using ravel().\n",
      "  model.fit(X_train, y_train)  # 모델 학습\n"
     ]
    },
    {
     "name": "stdout",
     "output_type": "stream",
     "text": [
      "Accuracy: 0.26151761517615174\n"
     ]
    }
   ],
   "source": [
    "import pandas as pd\n",
    "from sklearn.ensemble import RandomForestClassifier\n",
    "from sklearn.metrics import accuracy_score\n",
    "from sklearn.model_selection import StratifiedKFold\n",
    "\n",
    "# split 개수, 셔플 여부 및 seed 설정\n",
    "str_kf = StratifiedKFold(n_splits = 5, shuffle = True, random_state = 50)\n",
    "\n",
    "# split 개수 스텝 만큼 train, test 데이터셋을 매번 분할\n",
    "for train_index, test_index in str_kf.split(x, y):\n",
    "    X_train, X_test = x[train_index], x[test_index]\n",
    "    y_train, y_test = y[train_index], y[test_index]\n",
    "    \n",
    "    model = RandomForestClassifier()\n",
    "    model.fit(X_train, y_train)  # 모델 학습\n",
    "    \n",
    "    y_pred = model.predict(X_test)  # 예측 수행\n",
    "    \n",
    "    accuracy = accuracy_score(y_test, y_pred)  # 정확도 계산\n",
    "    print(f\"Accuracy: {accuracy}\")\n",
    "\n"
   ]
  },
  {
   "cell_type": "code",
   "execution_count": 62,
   "metadata": {},
   "outputs": [],
   "source": [
    "from sklearn.model_selection import cross_val_score, KFold\n",
    "from sklearn.ensemble import RandomForestClassifier\n",
    "from sklearn.metrics import accuracy_score\n",
    "from sklearn.model_selection import StratifiedKFold\n",
    "\n",
    "# 모델 훈련함수\n",
    "def train_rf_model_with_kfold(x, y, k):\n",
    "    kfold = StratifiedKFold(n_splits = k, shuffle = True, random_state = 2019100378)\n",
    "    model = RandomForestClassifier()\n",
    "    \n",
    "    for train_index, _ in kfold.split(x, y):\n",
    "        X_train, y_train = x[train_index], y[train_index]\n",
    "        model.fit(X_train, y_train)\n",
    "\n",
    "    return model\n",
    "    \n"
   ]
  },
  {
   "cell_type": "code",
   "execution_count": 64,
   "metadata": {},
   "outputs": [],
   "source": [
    "from sklearn.metrics import accuracy_score\n",
    "\n",
    "# 정확도 반환 함수\n",
    "def get_accuracy(y_true, y_pred):\n",
    "    accuracy = accuracy_score(y_true, y_pred)\n",
    "    return accuracy\n"
   ]
  },
  {
   "cell_type": "code",
   "execution_count": 63,
   "metadata": {},
   "outputs": [
    {
     "name": "stderr",
     "output_type": "stream",
     "text": [
      "C:\\Users\\hop09\\AppData\\Local\\Temp\\ipykernel_17816\\3339543208.py:13: DataConversionWarning: A column-vector y was passed when a 1d array was expected. Please change the shape of y to (n_samples,), for example using ravel().\n",
      "  model.fit(X_train, y_train)\n"
     ]
    },
    {
     "name": "stderr",
     "output_type": "stream",
     "text": [
      "C:\\Users\\hop09\\AppData\\Local\\Temp\\ipykernel_17816\\3339543208.py:13: DataConversionWarning: A column-vector y was passed when a 1d array was expected. Please change the shape of y to (n_samples,), for example using ravel().\n",
      "  model.fit(X_train, y_train)\n",
      "C:\\Users\\hop09\\AppData\\Local\\Temp\\ipykernel_17816\\3339543208.py:13: DataConversionWarning: A column-vector y was passed when a 1d array was expected. Please change the shape of y to (n_samples,), for example using ravel().\n",
      "  model.fit(X_train, y_train)\n",
      "C:\\Users\\hop09\\AppData\\Local\\Temp\\ipykernel_17816\\3339543208.py:13: DataConversionWarning: A column-vector y was passed when a 1d array was expected. Please change the shape of y to (n_samples,), for example using ravel().\n",
      "  model.fit(X_train, y_train)\n",
      "C:\\Users\\hop09\\AppData\\Local\\Temp\\ipykernel_17816\\3339543208.py:13: DataConversionWarning: A column-vector y was passed when a 1d array was expected. Please change the shape of y to (n_samples,), for example using ravel().\n",
      "  model.fit(X_train, y_train)\n"
     ]
    }
   ],
   "source": [
    "from sklearn.model_selection import train_test_split\n",
    "x = train_final.iloc[:,:-1].values\n",
    "y = train_final.iloc[:,-1:].values\n",
    "\n",
    "# train이랑 valid 나누기\n",
    "x_train, x_valid, y_train, y_valid = train_test_split(x, y, test_size=0.2, shuffle=True, stratify=y, random_state=1004)\n",
    "\n",
    "\n",
    "rf_model = train_rf_model_with_kfold(x_train, y_train, 5)\n",
    "\n"
   ]
  },
  {
   "cell_type": "code",
   "execution_count": 65,
   "metadata": {},
   "outputs": [
    {
     "name": "stdout",
     "output_type": "stream",
     "text": [
      "Accuracy: 0.21544715447154472\n"
     ]
    }
   ],
   "source": [
    "y_pred = rf_model.predict(x_valid)\n",
    "accuracy = get_accuracy(y_valid, y_pred)\n",
    "print(\"Accuracy:\", accuracy)"
   ]
  },
  {
   "cell_type": "code",
   "execution_count": 67,
   "metadata": {},
   "outputs": [
    {
     "name": "stdout",
     "output_type": "stream",
     "text": [
      "(738, 10) (738, 1) (738,)\n"
     ]
    }
   ],
   "source": [
    "print(x_valid.shape, y_valid.shape, y_pred.shape)\n"
   ]
  },
  {
   "cell_type": "code",
   "execution_count": 68,
   "metadata": {},
   "outputs": [
    {
     "name": "stdout",
     "output_type": "stream",
     "text": [
      "[[24.6  0.   0.  ...  0.   0.   0. ]\n",
      " [29.4  0.   1.  ...  0.   1.   0. ]\n",
      " [ 2.9  0.   1.  ...  0.   0.   0. ]\n",
      " ...\n",
      " [20.9  0.   0.  ...  0.   0.   0. ]\n",
      " [21.9  0.   1.  ...  1.   0.   0. ]\n",
      " [-3.   0.   1.  ...  0.   0.   1. ]]\n"
     ]
    }
   ],
   "source": [
    "print(x_valid)"
   ]
  },
  {
   "cell_type": "code",
   "execution_count": 69,
   "metadata": {},
   "outputs": [
    {
     "data": {
      "text/html": [
       "<div>\n",
       "<style scoped>\n",
       "    .dataframe tbody tr th:only-of-type {\n",
       "        vertical-align: middle;\n",
       "    }\n",
       "\n",
       "    .dataframe tbody tr th {\n",
       "        vertical-align: top;\n",
       "    }\n",
       "\n",
       "    .dataframe thead th {\n",
       "        text-align: right;\n",
       "    }\n",
       "</style>\n",
       "<table border=\"1\" class=\"dataframe\">\n",
       "  <thead>\n",
       "    <tr style=\"text-align: right;\">\n",
       "      <th></th>\n",
       "      <th>temperature</th>\n",
       "      <th>cloudy</th>\n",
       "      <th>rain</th>\n",
       "      <th>sunny</th>\n",
       "      <th>airpolution</th>\n",
       "      <th>humid(%)</th>\n",
       "      <th>fall</th>\n",
       "      <th>spring</th>\n",
       "      <th>summer</th>\n",
       "      <th>winter</th>\n",
       "      <th>cluster</th>\n",
       "    </tr>\n",
       "  </thead>\n",
       "  <tbody>\n",
       "    <tr>\n",
       "      <th>1</th>\n",
       "      <td>-0.6</td>\n",
       "      <td>0</td>\n",
       "      <td>0</td>\n",
       "      <td>1</td>\n",
       "      <td>23.0</td>\n",
       "      <td>60.9</td>\n",
       "      <td>1</td>\n",
       "      <td>0</td>\n",
       "      <td>0</td>\n",
       "      <td>0</td>\n",
       "      <td>3</td>\n",
       "    </tr>\n",
       "    <tr>\n",
       "      <th>2</th>\n",
       "      <td>-0.6</td>\n",
       "      <td>0</td>\n",
       "      <td>0</td>\n",
       "      <td>1</td>\n",
       "      <td>23.0</td>\n",
       "      <td>60.9</td>\n",
       "      <td>1</td>\n",
       "      <td>0</td>\n",
       "      <td>0</td>\n",
       "      <td>0</td>\n",
       "      <td>5</td>\n",
       "    </tr>\n",
       "    <tr>\n",
       "      <th>3</th>\n",
       "      <td>-0.6</td>\n",
       "      <td>0</td>\n",
       "      <td>0</td>\n",
       "      <td>1</td>\n",
       "      <td>23.0</td>\n",
       "      <td>60.9</td>\n",
       "      <td>1</td>\n",
       "      <td>0</td>\n",
       "      <td>0</td>\n",
       "      <td>0</td>\n",
       "      <td>5</td>\n",
       "    </tr>\n",
       "    <tr>\n",
       "      <th>4</th>\n",
       "      <td>-0.6</td>\n",
       "      <td>0</td>\n",
       "      <td>0</td>\n",
       "      <td>1</td>\n",
       "      <td>23.0</td>\n",
       "      <td>60.9</td>\n",
       "      <td>1</td>\n",
       "      <td>0</td>\n",
       "      <td>0</td>\n",
       "      <td>0</td>\n",
       "      <td>5</td>\n",
       "    </tr>\n",
       "    <tr>\n",
       "      <th>5</th>\n",
       "      <td>-0.6</td>\n",
       "      <td>0</td>\n",
       "      <td>0</td>\n",
       "      <td>1</td>\n",
       "      <td>23.0</td>\n",
       "      <td>60.9</td>\n",
       "      <td>1</td>\n",
       "      <td>0</td>\n",
       "      <td>0</td>\n",
       "      <td>0</td>\n",
       "      <td>4</td>\n",
       "    </tr>\n",
       "  </tbody>\n",
       "</table>\n",
       "</div>"
      ],
      "text/plain": [
       "   temperature  cloudy  rain  sunny  airpolution  humid(%)  fall  spring  \\\n",
       "1         -0.6       0     0      1         23.0      60.9     1       0   \n",
       "2         -0.6       0     0      1         23.0      60.9     1       0   \n",
       "3         -0.6       0     0      1         23.0      60.9     1       0   \n",
       "4         -0.6       0     0      1         23.0      60.9     1       0   \n",
       "5         -0.6       0     0      1         23.0      60.9     1       0   \n",
       "\n",
       "   summer  winter  cluster  \n",
       "1       0       0        3  \n",
       "2       0       0        5  \n",
       "3       0       0        5  \n",
       "4       0       0        5  \n",
       "5       0       0        4  "
      ]
     },
     "execution_count": 69,
     "metadata": {},
     "output_type": "execute_result"
    }
   ],
   "source": [
    "train_final.head()"
   ]
  },
  {
   "cell_type": "code",
   "execution_count": 72,
   "metadata": {},
   "outputs": [
    {
     "name": "stderr",
     "output_type": "stream",
     "text": [
      "c:\\Users\\hop09\\Desktop\\anaconda\\lib\\site-packages\\pandas\\util\\_decorators.py:211: FutureWarning: the 'encoding' keyword is deprecated and will be removed in a future version. Please take steps to stop the use of 'encoding'\n",
      "  return func(*args, **kwargs)\n"
     ]
    }
   ],
   "source": [
    "# 예측결과 데이터프레임화\n",
    "import pandas as pd\n",
    "\n",
    "# 데이터프레임 생성\n",
    "column_names = ['temperature',\t'cloudy',\t'rain',\t'sunny',\t'airpolution',\t'humid(%)',\t'fall',\t'spring'\t,'summer',\t'winter']\n",
    "df_x = pd.DataFrame(x_valid, columns=column_names)\n",
    "\n",
    "y_name = ['real_cluster']\n",
    "df_real_y = pd.DataFrame(y_valid, columns = y_name)\n",
    "\n",
    "y_name2 = ['pred_cluster']\n",
    "df_pred_y = pd.DataFrame(y_pred, columns=y_name2)\n",
    "\n",
    "model_result = pd.concat([df_x, df_real_y, df_pred_y], axis=1)\n",
    "model_result.head()\n",
    "\n",
    "# 엑셀 저장\n",
    "model_result.to_excel(\"모델결과반환.xlsx\", encoding='cp949')"
   ]
  }
 ],
 "metadata": {
  "kernelspec": {
   "display_name": "base",
   "language": "python",
   "name": "python3"
  },
  "language_info": {
   "codemirror_mode": {
    "name": "ipython",
    "version": 3
   },
   "file_extension": ".py",
   "mimetype": "text/x-python",
   "name": "python",
   "nbconvert_exporter": "python",
   "pygments_lexer": "ipython3",
   "version": "3.9.16"
  },
  "orig_nbformat": 4
 },
 "nbformat": 4,
 "nbformat_minor": 2
}
