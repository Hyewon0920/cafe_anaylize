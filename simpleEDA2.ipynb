{
 "cells": [
  {
   "cell_type": "code",
   "execution_count": 128,
   "metadata": {},
   "outputs": [],
   "source": [
    "# 데이터 불러오기\n",
    "import pandas as pd\n",
    "import numpy as np \n",
    "import os\n",
    "\n",
    "data_origin = pd.read_csv(\"데이터 전처리_혜원.CSV\", header = 1)\n"
   ]
  },
  {
   "cell_type": "code",
   "execution_count": 129,
   "metadata": {},
   "outputs": [
    {
     "data": {
      "text/plain": [
       "Index(['매장명', 'date', 'day', 'season', 'temperature', 'weather', 'cloudy',\n",
       "       'rain', 'snow', 'sunny', 'airpolution', 'humid(%)', '코로나 전 후', '품목 분류',\n",
       "       'labeling', 'menu', '총수량', '총 금액', '순이익', '08시 수량', '08시 금액', '09시 수량',\n",
       "       '09시 금액', '10시 수량', '10시 금액', '11시 수량', '11시 금액', '12시 수량', '12시 금액',\n",
       "       '13시 수량', '13시 금액', '14시 수량', '14시 금액', '15시 수량', '15시 금액', '16시 수량',\n",
       "       '16시 금액', '17시 수량', '17시 금액', '18시 수량', '18시 금액', '19시 수량', '19시 금액',\n",
       "       '20시 수량', '20시 금액'],\n",
       "      dtype='object')"
      ]
     },
     "execution_count": 129,
     "metadata": {},
     "output_type": "execute_result"
    }
   ],
   "source": [
    "# 쓸만한 칼럼 보기 위해서 우선 전체 칼럼 리스트 출력\n",
    "data_origin.columns"
   ]
  },
  {
   "cell_type": "code",
   "execution_count": 130,
   "metadata": {},
   "outputs": [],
   "source": [
    "# 날씨, 요일, 메뉴를 보려고 함\n",
    "import seaborn as sns\n",
    "import matplotlib.pyplot as plt\n",
    "\n",
    "data_weather_menu = data_origin[['day', 'season', 'temperature', 'cloudy',\n",
    "       'rain', 'snow', 'sunny', 'airpolution', 'humid(%)',\n",
    "       'labeling' , 'menu']]\n",
    "\n",
    "# sns.set(font=\"Malgun Gothic\", \n",
    "#         rc={\"axes.unicode_minus\":False},\n",
    "#         style='darkgrid')\n",
    "# sns.pairplot(data_origin)\n",
    "\n",
    "# sns.pairplot(data_origin[col])\n",
    "# plt.show()"
   ]
  },
  {
   "cell_type": "code",
   "execution_count": 131,
   "metadata": {},
   "outputs": [
    {
     "name": "stdout",
     "output_type": "stream",
     "text": [
      "(21599, 11)\n"
     ]
    }
   ],
   "source": [
    "# 칼럼 삭제 전 shape보기 (행,열)\n",
    "print(data_weather_menu.shape)"
   ]
  },
  {
   "cell_type": "code",
   "execution_count": 132,
   "metadata": {},
   "outputs": [
    {
     "name": "stdout",
     "output_type": "stream",
     "text": [
      "Int64Index([    1,     2,     3,     9,    36,    38,    39,    41,    51,\n",
      "               67,\n",
      "            ...\n",
      "            21552, 21553, 21554, 21556, 21565, 21577, 21579, 21580, 21583,\n",
      "            21590],\n",
      "           dtype='int64', length=2563)\n"
     ]
    }
   ],
   "source": [
    "# 상위 5개 품목은 어떤 요인과 관련없이 다 잘나가기 때문에 해당 음료는 제외하고 보기\n",
    "# 해당 음료가 있는 행의 인덱스 반환 후 인덱스 기준으로 삭제하기\n",
    "drop_index = data_weather_menu[(data_weather_menu[\"menu\"] == '아이스 아메리카노')|(data_weather_menu[\"menu\"] == '아이스 카페라떼')|(data_weather_menu[\"menu\"] == '아이스 바닐라라떼')|(data_weather_menu[\"menu\"] == '딸기라떼')|(data_weather_menu[\"menu\"] == '아메리카노')].index\n",
    "#아이스 아메리카노, 아이스 카페라떼, 아이스 바닐라라떼, 딸기라떼, 아메리카노\n",
    "\n",
    "print(drop_index)"
   ]
  },
  {
   "cell_type": "code",
   "execution_count": 133,
   "metadata": {},
   "outputs": [
    {
     "name": "stderr",
     "output_type": "stream",
     "text": [
      "C:\\Users\\hop09\\AppData\\Local\\Temp\\ipykernel_9952\\352717995.py:2: SettingWithCopyWarning: \n",
      "A value is trying to be set on a copy of a slice from a DataFrame\n",
      "\n",
      "See the caveats in the documentation: https://pandas.pydata.org/pandas-docs/stable/user_guide/indexing.html#returning-a-view-versus-a-copy\n",
      "  data_weather_menu.drop(drop_index, inplace=True)\n"
     ]
    }
   ],
   "source": [
    "# inplace = True : 변경을 저장하겠다. \n",
    "data_weather_menu.drop(drop_index, inplace=True)"
   ]
  },
  {
   "cell_type": "code",
   "execution_count": 134,
   "metadata": {},
   "outputs": [
    {
     "data": {
      "text/plain": [
       "(19036, 11)"
      ]
     },
     "execution_count": 134,
     "metadata": {},
     "output_type": "execute_result"
    }
   ],
   "source": [
    "# 기존보다 행 개수가 준 것을 확인할 수 있음 \n",
    "data_weather_menu.shape"
   ]
  },
  {
   "cell_type": "code",
   "execution_count": 135,
   "metadata": {},
   "outputs": [
    {
     "data": {
      "text/plain": [
       "Index(['day', 'season', 'temperature', 'cloudy', 'rain', 'snow', 'sunny',\n",
       "       'airpolution', 'humid(%)', 'labeling', 'menu'],\n",
       "      dtype='object')"
      ]
     },
     "execution_count": 135,
     "metadata": {},
     "output_type": "execute_result"
    }
   ],
   "source": [
    "# 가지고 있는 칼럼 보기 -> 더미변수화를 위해\n",
    "data_weather_menu.columns"
   ]
  },
  {
   "cell_type": "code",
   "execution_count": 136,
   "metadata": {},
   "outputs": [],
   "source": [
    "# 메뉴, 계절, 요일은 더미변수화해서 보는 것이 좋을 것 같다고 판단, 더미변수화 진행\n",
    "data_dummies_menu = pd.DataFrame(pd.get_dummies(data_weather_menu['menu']))\n",
    "data_dummies_season = pd.DataFrame(pd.get_dummies(data_weather_menu['season']))\n",
    "data_dummies_day = pd.DataFrame(pd.get_dummies(data_weather_menu['day']))"
   ]
  },
  {
   "cell_type": "code",
   "execution_count": 137,
   "metadata": {},
   "outputs": [],
   "source": [
    "# 새로운 데이터프레임 만들어주기\n",
    "data_target = data_weather_menu[['labeling']]\n",
    "data_weather_menu = pd.concat([data_weather_menu[['cloudy',\n",
    "       'rain', 'snow', 'sunny', 'airpolution', 'humid(%)', 'temperature',\n",
    "      ]] ,data_dummies_season, data_dummies_day, data_dummies_menu, data_target], axis = 1)"
   ]
  },
  {
   "cell_type": "code",
   "execution_count": 138,
   "metadata": {},
   "outputs": [
    {
     "name": "stdout",
     "output_type": "stream",
     "text": [
      "(19036, 189)\n"
     ]
    }
   ],
   "source": [
    "print(data_weather_menu.shape)"
   ]
  },
  {
   "cell_type": "code",
   "execution_count": null,
   "metadata": {},
   "outputs": [],
   "source": [
    "# heatmap그리는 코드\n",
    "# import seaborn as sns\n",
    "# import matplotlib.pyplot as plt\n",
    "\n",
    "\n",
    "# sns.set(font=\"Malgun Gothic\", \n",
    "#         rc={\"axes.unicode_minus\":False},\n",
    "#         style='darkgrid')\n",
    "# fig, ax = plt.subplots(1,1 ,figsize = (40,40))\n",
    "# cmap = sns.light_palette(\"darkgray\", as_cmap=True)\n",
    "# sns.heatmap(data_weather_menu.corr(), annot=True, cmap=cmap)\n",
    "# plt.show()"
   ]
  },
  {
   "cell_type": "code",
   "execution_count": 108,
   "metadata": {},
   "outputs": [
    {
     "name": "stderr",
     "output_type": "stream",
     "text": [
      "C:\\Users\\hop09\\AppData\\Local\\Temp\\ipykernel_9952\\964632985.py:3: FutureWarning: The default value of numeric_only in DataFrame.corr is deprecated. In a future version, it will default to False. Select only valid columns or specify the value of numeric_only to silence this warning.\n",
      "  data_weather_corr = pd.DataFrame(data_weather_menu.corr(method='pearson'))\n",
      "c:\\Users\\hop09\\Desktop\\anaconda\\lib\\site-packages\\pandas\\util\\_decorators.py:211: FutureWarning: the 'encoding' keyword is deprecated and will be removed in a future version. Please take steps to stop the use of 'encoding'\n",
      "  return func(*args, **kwargs)\n"
     ]
    }
   ],
   "source": [
    "# 상관분석 진행\n",
    "pd.set_option('display.max_rows', None)\n",
    "data_weather_corr = pd.DataFrame(data_weather_menu.corr(method='pearson'))\n",
    "data_weather_corr\n",
    "data_weather_corr.to_excel(\"날씨품명cor분석.xlsx\", encoding='cp949')"
   ]
  },
  {
   "attachments": {},
   "cell_type": "markdown",
   "metadata": {},
   "source": [
    "## 코로나 전 cor분석"
   ]
  },
  {
   "cell_type": "code",
   "execution_count": 115,
   "metadata": {},
   "outputs": [],
   "source": [
    "# 데이터 불러오기\n",
    "import pandas as pd\n",
    "import numpy as np \n",
    "import os\n",
    "\n",
    "data_origin = pd.read_csv(\"데이터전처리_혜원_코로나전.CSV\", header = 0)\n",
    "\n",
    "\n"
   ]
  },
  {
   "cell_type": "code",
   "execution_count": 117,
   "metadata": {},
   "outputs": [],
   "source": [
    "# 날씨, 요일, 메뉴를 보려고 함\n",
    "import seaborn as sns\n",
    "import matplotlib.pyplot as plt\n",
    "\n",
    "data_weather_menu = data_origin[['day', 'season', 'temperature', 'cloudy',\n",
    "       'rain', 'snow', 'sunny', 'airpolution', 'humid(%)',\n",
    "       'labeling' , 'menu']]"
   ]
  },
  {
   "cell_type": "code",
   "execution_count": 118,
   "metadata": {},
   "outputs": [
    {
     "name": "stdout",
     "output_type": "stream",
     "text": [
      "(16697, 11)\n",
      "Int64Index([    1,     2,     3,     9,    36,    38,    39,    41,    51,\n",
      "               67,\n",
      "            ...\n",
      "            16555, 16557, 16558, 16568, 16584, 16632, 16633, 16634, 16642,\n",
      "            16659],\n",
      "           dtype='int64', length=1390)\n"
     ]
    }
   ],
   "source": [
    "print(data_weather_menu.shape)\n",
    "# 상위 5개 품목은 어떤 요인과 관련없이 다 잘나가기 때문에 해당 음료는 제외하고 보기\n",
    "# 해당 음료가 있는 행의 인덱스 반환 후 인덱스 기준으로 삭제하기\n",
    "drop_index = data_weather_menu[(data_weather_menu[\"menu\"] == '아이스 아메리카노')|(data_weather_menu[\"menu\"] == '아이스 카페라떼')|(data_weather_menu[\"menu\"] == '아이스 바닐라라떼')|(data_weather_menu[\"menu\"] == '딸기라떼')|(data_weather_menu[\"menu\"] == '아메리카노')].index\n",
    "#아이스 아메리카노, 아이스 카페라떼, 아이스 바닐라라떼, 딸기라떼, 아메리카노\n",
    "\n",
    "print(drop_index)\n",
    "# inplace = True : 변경을 저장하겠다. "
   ]
  },
  {
   "cell_type": "code",
   "execution_count": 119,
   "metadata": {},
   "outputs": [
    {
     "name": "stderr",
     "output_type": "stream",
     "text": [
      "C:\\Users\\hop09\\AppData\\Local\\Temp\\ipykernel_9952\\635812491.py:1: SettingWithCopyWarning: \n",
      "A value is trying to be set on a copy of a slice from a DataFrame\n",
      "\n",
      "See the caveats in the documentation: https://pandas.pydata.org/pandas-docs/stable/user_guide/indexing.html#returning-a-view-versus-a-copy\n",
      "  data_weather_menu.drop(drop_index, inplace=True)\n"
     ]
    },
    {
     "data": {
      "text/plain": [
       "(15307, 11)"
      ]
     },
     "execution_count": 119,
     "metadata": {},
     "output_type": "execute_result"
    }
   ],
   "source": [
    "data_weather_menu.drop(drop_index, inplace=True)\n",
    "# 기존보다 행 개수가 준 것을 확인할 수 있음 \n",
    "data_weather_menu.shape\n",
    "# 가지고 있는 칼럼 보기 -> 더미변수화를 위해"
   ]
  },
  {
   "cell_type": "code",
   "execution_count": 120,
   "metadata": {},
   "outputs": [
    {
     "name": "stdout",
     "output_type": "stream",
     "text": [
      "(15307, 175)\n"
     ]
    }
   ],
   "source": [
    "# 메뉴, 계절, 요일은 더미변수화해서 보는 것이 좋을 것 같다고 판단, 더미변수화 진행\n",
    "data_dummies_menu = pd.DataFrame(pd.get_dummies(data_weather_menu['menu']))\n",
    "data_dummies_season = pd.DataFrame(pd.get_dummies(data_weather_menu['season']))\n",
    "data_dummies_day = pd.DataFrame(pd.get_dummies(data_weather_menu['day']))\n",
    "# 새로운 데이터프레임 만들어주기\n",
    "data_target = data_weather_menu[['labeling']]\n",
    "data_weather_menu = pd.concat([data_weather_menu[['cloudy',\n",
    "       'rain', 'snow', 'sunny', 'airpolution', 'humid(%)', 'temperature',\n",
    "      ]] ,data_dummies_season, data_dummies_day, data_dummies_menu, data_target], axis = 1)\n",
    "print(data_weather_menu.shape)"
   ]
  },
  {
   "cell_type": "code",
   "execution_count": 121,
   "metadata": {},
   "outputs": [
    {
     "name": "stderr",
     "output_type": "stream",
     "text": [
      "c:\\Users\\hop09\\Desktop\\anaconda\\lib\\site-packages\\pandas\\util\\_decorators.py:211: FutureWarning: the 'encoding' keyword is deprecated and will be removed in a future version. Please take steps to stop the use of 'encoding'\n",
      "  return func(*args, **kwargs)\n"
     ]
    }
   ],
   "source": [
    "# 상관분석 진행\n",
    "pd.set_option('display.max_rows', None)\n",
    "data_weather_corr = pd.DataFrame(data_weather_menu.corr(method='pearson'))\n",
    "data_weather_corr\n",
    "data_weather_corr.to_excel(\"날씨품명cor분석_코로나전.xlsx\", encoding='cp949')"
   ]
  },
  {
   "attachments": {},
   "cell_type": "markdown",
   "metadata": {},
   "source": [
    "## 코로나 후 분석"
   ]
  },
  {
   "cell_type": "code",
   "execution_count": 122,
   "metadata": {},
   "outputs": [],
   "source": [
    "# 데이터 불러오기\n",
    "import pandas as pd\n",
    "import numpy as np \n",
    "import os\n",
    "\n",
    "data_origin_bc = pd.read_csv(\"데이터전처리_혜원_코로나후.CSV\", header = 0)\n"
   ]
  },
  {
   "cell_type": "code",
   "execution_count": 123,
   "metadata": {},
   "outputs": [],
   "source": [
    "# 날씨, 요일, 메뉴를 보려고 함\n",
    "import seaborn as sns\n",
    "import matplotlib.pyplot as plt\n",
    "\n",
    "data_weather_menu_bc = data_origin_bc[['day', 'season', 'temperature', 'cloudy',\n",
    "       'rain', 'snow', 'sunny', 'airpolution', 'humid(%)',\n",
    "       'labeling' , 'menu']]"
   ]
  },
  {
   "cell_type": "code",
   "execution_count": 124,
   "metadata": {},
   "outputs": [
    {
     "name": "stdout",
     "output_type": "stream",
     "text": [
      "(4901, 11)\n",
      "Int64Index([   1,    2,    4,    7,   15,   16,   18,   20,   25,   30,\n",
      "            ...\n",
      "            4855, 4856, 4857, 4859, 4868, 4880, 4882, 4883, 4886, 4893],\n",
      "           dtype='int64', length=1173)\n"
     ]
    }
   ],
   "source": [
    "print(data_weather_menu_bc.shape)\n",
    "# 상위 5개 품목은 어떤 요인과 관련없이 다 잘나가기 때문에 해당 음료는 제외하고 보기\n",
    "# 해당 음료가 있는 행의 인덱스 반환 후 인덱스 기준으로 삭제하기\n",
    "drop_index = data_weather_menu_bc[(data_weather_menu_bc[\"menu\"] == '아이스 아메리카노')|(data_weather_menu_bc[\"menu\"] == '아이스 카페라떼')|(data_weather_menu_bc[\"menu\"] == '아이스 바닐라라떼')|(data_weather_menu_bc[\"menu\"] == '딸기라떼')|(data_weather_menu_bc[\"menu\"] == '아메리카노')].index\n",
    "#아이스 아메리카노, 아이스 카페라떼, 아이스 바닐라라떼, 딸기라떼, 아메리카노\n",
    "\n",
    "print(drop_index)\n",
    "# inplace = True : 변경을 저장하겠다. "
   ]
  },
  {
   "cell_type": "code",
   "execution_count": 125,
   "metadata": {},
   "outputs": [
    {
     "name": "stderr",
     "output_type": "stream",
     "text": [
      "C:\\Users\\hop09\\AppData\\Local\\Temp\\ipykernel_9952\\635812491.py:1: SettingWithCopyWarning: \n",
      "A value is trying to be set on a copy of a slice from a DataFrame\n",
      "\n",
      "See the caveats in the documentation: https://pandas.pydata.org/pandas-docs/stable/user_guide/indexing.html#returning-a-view-versus-a-copy\n",
      "  data_weather_menu.drop(drop_index, inplace=True)\n"
     ]
    },
    {
     "data": {
      "text/plain": [
       "(3728, 11)"
      ]
     },
     "execution_count": 125,
     "metadata": {},
     "output_type": "execute_result"
    }
   ],
   "source": [
    "data_weather_menu_bc.drop(drop_index, inplace=True)\n",
    "# 기존보다 행 개수가 준 것을 확인할 수 있음 \n",
    "data_weather_menu_bc.shape\n",
    "# 가지고 있는 칼럼 보기 -> 더미변수화를 위해"
   ]
  },
  {
   "cell_type": "code",
   "execution_count": 126,
   "metadata": {},
   "outputs": [
    {
     "name": "stdout",
     "output_type": "stream",
     "text": [
      "(3728, 90)\n"
     ]
    }
   ],
   "source": [
    "# 메뉴, 계절, 요일은 더미변수화해서 보는 것이 좋을 것 같다고 판단, 더미변수화 진행\n",
    "data_dummies_menu = pd.DataFrame(pd.get_dummies(data_weather_menu_bc['menu']))\n",
    "data_dummies_season = pd.DataFrame(pd.get_dummies(data_weather_menu_bc['season']))\n",
    "data_dummies_day = pd.DataFrame(pd.get_dummies(data_weather_menu_bc['day']))\n",
    "# 새로운 데이터프레임 만들어주기\n",
    "data_target = data_weather_menu_bc[['labeling']]\n",
    "data_weather_menu_bc = pd.concat([data_weather_menu_bc[['cloudy',\n",
    "       'rain', 'snow', 'sunny', 'airpolution', 'humid(%)', 'temperature',\n",
    "      ]] ,data_dummies_season, data_dummies_day, data_dummies_menu, data_target], axis = 1)\n",
    "print(data_weather_menu_bc.shape)"
   ]
  },
  {
   "cell_type": "code",
   "execution_count": 127,
   "metadata": {},
   "outputs": [
    {
     "name": "stderr",
     "output_type": "stream",
     "text": [
      "c:\\Users\\hop09\\Desktop\\anaconda\\lib\\site-packages\\pandas\\util\\_decorators.py:211: FutureWarning: the 'encoding' keyword is deprecated and will be removed in a future version. Please take steps to stop the use of 'encoding'\n",
      "  return func(*args, **kwargs)\n"
     ]
    }
   ],
   "source": [
    "# 상관분석 진행\n",
    "pd.set_option('display.max_rows', None)\n",
    "data_weather_corr = pd.DataFrame(data_weather_menu.corr(method='pearson'))\n",
    "data_weather_corr\n",
    "data_weather_corr.to_excel(\"날씨품명cor분석_코로나후.xlsx\", encoding='cp949')"
   ]
  },
  {
   "cell_type": "code",
   "execution_count": null,
   "metadata": {},
   "outputs": [],
   "source": []
  }
 ],
 "metadata": {
  "kernelspec": {
   "display_name": "base",
   "language": "python",
   "name": "python3"
  },
  "language_info": {
   "codemirror_mode": {
    "name": "ipython",
    "version": 3
   },
   "file_extension": ".py",
   "mimetype": "text/x-python",
   "name": "python",
   "nbconvert_exporter": "python",
   "pygments_lexer": "ipython3",
   "version": "3.9.16"
  },
  "orig_nbformat": 4
 },
 "nbformat": 4,
 "nbformat_minor": 2
}
